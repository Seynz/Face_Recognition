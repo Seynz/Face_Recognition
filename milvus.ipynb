{
 "cells": [
  {
   "cell_type": "code",
   "execution_count": 6,
   "id": "dd95d02e",
   "metadata": {},
   "outputs": [],
   "source": [
    "from pymilvus import (\n",
    "    connections, FieldSchema, CollectionSchema, DataType, Collection, utility\n",
    ")\n",
    "import numpy as np\n",
    "import json"
   ]
  },
  {
   "cell_type": "code",
   "execution_count": 7,
   "id": "a4fc8885",
   "metadata": {},
   "outputs": [
    {
     "name": "stdout",
     "output_type": "stream",
     "text": [
      "Embedding dan label berhasil disimpan ke Milvus.\n"
     ]
    }
   ],
   "source": [
    "# Koneksi ke Milvus\n",
    "connections.connect(\"default\", host=\"localhost\", port=\"19530\")\n",
    "\n",
    "# Schema untuk collection embedding\n",
    "fields = [\n",
    "    FieldSchema(name=\"id\", dtype=DataType.INT64, is_primary=True, auto_id=True),\n",
    "    FieldSchema(name=\"embedding\", dtype=DataType.FLOAT_VECTOR, dim=512),\n",
    "]\n",
    "\n",
    "schema = CollectionSchema(fields, description=\"Face embeddings collection\")\n",
    "\n",
    "# Buat collection baru (kalau belum ada)\n",
    "collection_name = \"face_embeddings_mobilefacenet\"\n",
    "if collection_name in utility.list_collections():\n",
    "    collection = Collection(collection_name)\n",
    "else:\n",
    "    collection = Collection(collection_name, schema)\n",
    "\n",
    "# Insert data embedding\n",
    "# Misal kamu sudah punya embedding numpy array X (n_samples, 512) dan labels y (list)\n",
    "X = np.load(\"X_total.npy\")\n",
    "y = np.load(\"y_total.npy\")\n",
    "\n",
    "X = X / np.linalg.norm(X, axis=1, keepdims=True)\n",
    "# Convert X ke list dan simpan ke milvus\n",
    "mr = collection.insert([X.tolist()])\n",
    "\n",
    "# Simpan mapping id -> label\n",
    "ids = mr.primary_keys\n",
    "id_to_label = {int(id): label for id, label in zip(ids, y)}\n",
    "\n",
    "with open(\"id_to_label.json\", \"w\") as f:\n",
    "    json.dump(id_to_label, f)\n",
    "\n",
    "print(\"Embedding dan label berhasil disimpan ke Milvus.\")"
   ]
  }
 ],
 "metadata": {
  "kernelspec": {
   "display_name": "Python 3",
   "language": "python",
   "name": "python3"
  },
  "language_info": {
   "codemirror_mode": {
    "name": "ipython",
    "version": 3
   },
   "file_extension": ".py",
   "mimetype": "text/x-python",
   "name": "python",
   "nbconvert_exporter": "python",
   "pygments_lexer": "ipython3",
   "version": "3.12.2"
  }
 },
 "nbformat": 4,
 "nbformat_minor": 5
}
